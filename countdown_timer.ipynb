{
  "nbformat": 4,
  "nbformat_minor": 0,
  "metadata": {
    "colab": {
      "provenance": [],
      "authorship_tag": "ABX9TyOHOdpu/jB3yYR9gPDCi54W",
      "include_colab_link": true
    },
    "kernelspec": {
      "name": "python3",
      "display_name": "Python 3"
    },
    "language_info": {
      "name": "python"
    }
  },
  "cells": [
    {
      "cell_type": "markdown",
      "metadata": {
        "id": "view-in-github",
        "colab_type": "text"
      },
      "source": [
        "<a href=\"https://colab.research.google.com/github/WajahatAli3218664/CountDownTimer-in-Python/blob/main/countdown_timer.ipynb\" target=\"_parent\"><img src=\"https://colab.research.google.com/assets/colab-badge.svg\" alt=\"Open In Colab\"/></a>"
      ]
    },
    {
      "cell_type": "markdown",
      "source": [
        "# **Countdown Timer in Python**"
      ],
      "metadata": {
        "id": "ERPYJ3K4eY_h"
      }
    },
    {
      "cell_type": "code",
      "source": [
        "#Project 5: Count Down Timer In Python\n",
        "#Description: This is a countdown timer that takes time input from the user in seconds and then displays it in a minute:second format\n",
        "#Instructor: Wajahat Ali\n",
        "\n",
        "import time\n",
        "def countdown_timer(time_in_seconds):\n",
        "    while time_in_seconds:\n",
        "        mins, secs = divmod(time_in_seconds, 60)\n",
        "        timeformat = '{:02d}:{:02d}'.format(mins, secs)\n",
        "        print(timeformat, end='\\r')\n",
        "        time.sleep(1)\n",
        "        time_in_seconds -= 1\n",
        "    print(\"00:00 \\n Time's up!\")\n",
        "total_seconds = int(input(\"Enter the time in seconds for countdown: \"))\n",
        "countdown_timer(total_seconds)\n",
        "\n",
        "\n"
      ],
      "metadata": {
        "colab": {
          "base_uri": "https://localhost:8080/"
        },
        "id": "KKr7FweDelFM",
        "outputId": "92a1d5d2-8545-46fe-9c20-1e22db8ad07f"
      },
      "execution_count": null,
      "outputs": [
        {
          "output_type": "stream",
          "name": "stdout",
          "text": [
            "Enter the time in seconds for countdown: 5\n",
            "00:00 \n",
            " Time's up!\n"
          ]
        }
      ]
    }
  ]
}